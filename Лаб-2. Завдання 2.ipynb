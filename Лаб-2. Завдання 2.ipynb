{
 "cells": [
  {
   "cell_type": "markdown",
   "metadata": {},
   "source": [
    "#  Лабораторна робота №2\n",
    "### Практичне завдання №2\n",
    "***"
   ]
  },
  {
   "cell_type": "markdown",
   "metadata": {},
   "source": [
    "## Структури даних"
   ]
  },
  {
   "cell_type": "markdown",
   "metadata": {},
   "source": [
    "###  Списки - List\n",
    "\n",
    "__Списки__ - це найбільш часто використовувана структура даних. \n",
    "\n",
    "Це послідовність даних, яка укладена у квадратні дужки, а дані відокремлюються комою. До кожного з цих даних можна отримати доступ, викликавши його значення по індексу.\n",
    "Списки оголошуються просто прирівнюючи змінну до '[]' або списку.\n",
    "\n",
    "```spisok = [obj1, obj2, ..., objN]```, де obj - будь-який допустимий python-об'єкт\n",
    "\n",
    "spisok = [1, -0.12, \"Вася\", [42, \"Пупкін\"], False ]\n",
    "\n",
    "[Докладніше про списки в Python](https://devpractice.ru/python-lesson-7-work-with-list/)"
   ]
  },
  {
   "cell_type": "code",
   "execution_count": 1,
   "metadata": {},
   "outputs": [
    {
     "name": "stdout",
     "output_type": "stream",
     "text": [
      "<class 'list'>\n"
     ]
    }
   ],
   "source": [
    "a = []\n",
    "print (type(a))"
   ]
  },
  {
   "cell_type": "markdown",
   "metadata": {},
   "source": [
    "### операції над списками\n",
    "\n",
    "1. ```+``` - __додавання__: приєднує один список до другого\n",
    "2. ```*``` - __множення__ : розшірює список вправо на множник"
   ]
  },
  {
   "cell_type": "code",
   "execution_count": 2,
   "metadata": {},
   "outputs": [],
   "source": [
    "a = [1, 2, 3] + [3, 4]\n",
    "b = a * 2"
   ]
  },
  {
   "cell_type": "code",
   "execution_count": 3,
   "metadata": {},
   "outputs": [
    {
     "name": "stdout",
     "output_type": "stream",
     "text": [
      "a =  [1, 2, 3, 3, 4]\n",
      "b =  [1, 2, 3, 3, 4, 1, 2, 3, 3, 4]\n"
     ]
    }
   ],
   "source": [
    "print(\"a = \", a)\n",
    "print(\"b = \", b)"
   ]
  },
  {
   "cell_type": "code",
   "execution_count": 5,
   "metadata": {
    "run_control": {
     "marked": false
    }
   },
   "outputs": [
    {
     "name": "stdout",
     "output_type": "stream",
     "text": [
      "0\n",
      "Микола --- 0   Поляков --- 1  \n"
     ]
    }
   ],
   "source": [
    "### ЗАВДАННЯ 1: \n",
    "# 1) створити пустий список `i_am`\n",
    "# 2) записати в нього своє ім'я\n",
    "# 3) вивести `id` списка\n",
    "# 4) додати до списка другий елемент з своїм прізвищем\n",
    "# 5) вивести отриманий список то його `id`\n",
    "i_am = []\n",
    "i_am.append(\"Микола\")\n",
    "print(i_am.index(\"Микола\"))\n",
    "i_am.append(\"Поляков\")\n",
    "print(i_am[0],\"---\",i_am.index(\"Микола\"),\" \",i_am[1],\"---\",i_am.index(\"Поляков\"),\" \")"
   ]
  },
  {
   "cell_type": "markdown",
   "metadata": {},
   "source": [
    "### Особливості зберігання даних в списках\n",
    "\n",
    "Списки - не змінюють свое `id` при зміні значень, або кількості елементів"
   ]
  },
  {
   "cell_type": "markdown",
   "metadata": {},
   "source": [
    "### Індексація в списках\n",
    "\n",
    "__Індексація__ - це метод доступу до окремого єлементу в списку. Елементи в списках нумеруються з 0, а доступ до них здійснюється через номер в квадратних дужках.\n",
    "\n",
    "name = \"Вася Пупкін\"\n",
    "name[5]"
   ]
  },
  {
   "cell_type": "code",
   "execution_count": 6,
   "metadata": {
    "scrolled": true
   },
   "outputs": [
    {
     "name": "stdout",
     "output_type": "stream",
     "text": [
      "4 2302717141440\n",
      "[1, 2, 3, 99999, 5] 2302717141440\n"
     ]
    }
   ],
   "source": [
    "n = [1,2,3,4,5]\n",
    "print(n[3], id(n))\n",
    "n[3] = 99999\n",
    "print(n, id(n))"
   ]
  },
  {
   "cell_type": "markdown",
   "metadata": {},
   "source": [
    "Індекси можуть бути відємними"
   ]
  },
  {
   "cell_type": "code",
   "execution_count": 7,
   "metadata": {},
   "outputs": [
    {
     "name": "stdout",
     "output_type": "stream",
     "text": [
      "99999\n",
      "[1, 2, 3, 4, 5]\n"
     ]
    }
   ],
   "source": [
    "print(n[-2])\n",
    "n[-2] = 4\n",
    "print(n)"
   ]
  },
  {
   "cell_type": "markdown",
   "metadata": {},
   "source": [
    "#### срізи в списках\n",
    "\n",
    "__Срізи__ - це метод виділення зі списка іншого списка по заданому діапазону індексів\n",
    "\n",
    "spisok[<начало> : <кінець> : <шаг>]"
   ]
  },
  {
   "cell_type": "code",
   "execution_count": 8,
   "metadata": {
    "scrolled": false
   },
   "outputs": [
    {
     "name": "stdout",
     "output_type": "stream",
     "text": [
      "n =  [1, 2, 3, 4, 5, 1, 2, 3, 4, 5]\n",
      "m =  [4, 5]\n",
      "k =  [1, 2, 3, 4]\n",
      "l =  [1, 3, 5]\n"
     ]
    }
   ],
   "source": [
    "n2 = n * 2\n",
    "print(\"n = \", n2)\n",
    "\n",
    "m = n[3:5]\n",
    "print(\"m = \", m)\n",
    "\n",
    "k = n[:4]\n",
    "print(\"k = \", k)\n",
    "\n",
    "l = n[: : 2]\n",
    "print(\"l = \", l)"
   ]
  },
  {
   "cell_type": "code",
   "execution_count": 10,
   "metadata": {
    "run_control": {
     "marked": false
    }
   },
   "outputs": [
    {
     "name": "stdout",
     "output_type": "stream",
     "text": [
      "[1, 2, 3, 4, 5]\n",
      "[9, 8, 7, 6, 5, 4]\n",
      "[2, 4, 6, 8]\n"
     ]
    }
   ],
   "source": [
    "### ЗАВДАННЯ 3: \n",
    "# 1) створити список із 10 натуральних чисел [1..10]\n",
    "# 2) написати код що виводить перші 5 єлементів\n",
    "# 3) написати код що виводить останні 6 єлементів\n",
    "# 4) написати код що виводить всі парні єлементи\n",
    "\n",
    "#1\n",
    "list=[]\n",
    "for i in range(10):\n",
    "    if i!=0:\n",
    "        list.append(i)\n",
    "\n",
    "#2\n",
    "l1=list[0:5]\n",
    "print(l1)\n",
    "\n",
    "l2=list[-1:-7:-1]\n",
    "print(l2)\n",
    "\n",
    "#4  \n",
    "l3=list[1::2]\n",
    "print(l3)\n"
   ]
  },
  {
   "cell_type": "markdown",
   "metadata": {},
   "source": [
    "#### функції і методи спісків"
   ]
  },
  {
   "cell_type": "code",
   "execution_count": 11,
   "metadata": {},
   "outputs": [
    {
     "ename": "TypeError",
     "evalue": "'list' object is not callable",
     "output_type": "error",
     "traceback": [
      "\u001b[1;31m---------------------------------------------------------------------------\u001b[0m",
      "\u001b[1;31mTypeError\u001b[0m                                 Traceback (most recent call last)",
      "\u001b[1;32m<ipython-input-11-f8832235f4e1>\u001b[0m in \u001b[0;36m<module>\u001b[1;34m\u001b[0m\n\u001b[1;32m----> 1\u001b[1;33m \u001b[0ml\u001b[0m \u001b[1;33m=\u001b[0m \u001b[0mlist\u001b[0m\u001b[1;33m(\u001b[0m\u001b[0mrange\u001b[0m\u001b[1;33m(\u001b[0m\u001b[1;36m5\u001b[0m\u001b[1;33m)\u001b[0m\u001b[1;33m)\u001b[0m\u001b[1;33m\u001b[0m\u001b[1;33m\u001b[0m\u001b[0m\n\u001b[0m\u001b[0;32m      2\u001b[0m \u001b[0mprint\u001b[0m\u001b[1;33m(\u001b[0m\u001b[0ml\u001b[0m\u001b[1;33m)\u001b[0m\u001b[1;33m\u001b[0m\u001b[1;33m\u001b[0m\u001b[0m\n",
      "\u001b[1;31mTypeError\u001b[0m: 'list' object is not callable"
     ]
    }
   ],
   "source": [
    "l = list(range(5))\n",
    "print(l)"
   ]
  },
  {
   "cell_type": "code",
   "execution_count": 12,
   "metadata": {},
   "outputs": [
    {
     "name": "stdout",
     "output_type": "stream",
     "text": [
      "['ArithmeticError', 'AssertionError', 'AttributeError', 'BaseException', 'BlockingIOError', 'BrokenPipeError', 'BufferError', 'BytesWarning', 'ChildProcessError', 'ConnectionAbortedError', 'ConnectionError', 'ConnectionRefusedError', 'ConnectionResetError', 'DeprecationWarning', 'EOFError', 'Ellipsis', 'EnvironmentError', 'Exception', 'False', 'FileExistsError', 'FileNotFoundError', 'FloatingPointError', 'FutureWarning', 'GeneratorExit', 'IOError', 'ImportError', 'ImportWarning', 'IndentationError', 'IndexError', 'InterruptedError', 'IsADirectoryError', 'KeyError', 'KeyboardInterrupt', 'LookupError', 'MemoryError', 'ModuleNotFoundError', 'NameError', 'None', 'NotADirectoryError', 'NotImplemented', 'NotImplementedError', 'OSError', 'OverflowError', 'PendingDeprecationWarning', 'PermissionError', 'ProcessLookupError', 'RecursionError', 'ReferenceError', 'ResourceWarning', 'RuntimeError', 'RuntimeWarning', 'StopAsyncIteration', 'StopIteration', 'SyntaxError', 'SyntaxWarning', 'SystemError', 'SystemExit', 'TabError', 'TimeoutError', 'True', 'TypeError', 'UnboundLocalError', 'UnicodeDecodeError', 'UnicodeEncodeError', 'UnicodeError', 'UnicodeTranslateError', 'UnicodeWarning', 'UserWarning', 'ValueError', 'Warning', 'WindowsError', 'ZeroDivisionError', '__IPYTHON__', '__build_class__', '__debug__', '__doc__', '__import__', '__loader__', '__name__', '__package__', '__spec__', 'abs', 'all', 'any', 'ascii', 'bin', 'bool', 'breakpoint', 'bytearray', 'bytes', 'callable', 'chr', 'classmethod', 'compile', 'complex', 'copyright', 'credits', 'delattr', 'dict', 'dir', 'display', 'divmod', 'enumerate', 'eval', 'exec', 'filter', 'float', 'format', 'frozenset', 'get_ipython', 'getattr', 'globals', 'hasattr', 'hash', 'help', 'hex', 'id', 'input', 'int', 'isinstance', 'issubclass', 'iter', 'len', 'license', 'list', 'locals', 'map', 'max', 'memoryview', 'min', 'next', 'object', 'oct', 'open', 'ord', 'pow', 'print', 'property', 'range', 'repr', 'reversed', 'round', 'set', 'setattr', 'slice', 'sorted', 'staticmethod', 'str', 'sum', 'super', 'tuple', 'type', 'vars', 'zip']\n"
     ]
    }
   ],
   "source": [
    "print(dir(__builtins__))"
   ]
  },
  {
   "cell_type": "code",
   "execution_count": 13,
   "metadata": {
    "scrolled": true
   },
   "outputs": [
    {
     "name": "stdout",
     "output_type": "stream",
     "text": [
      "['__add__', '__class__', '__class_getitem__', '__contains__', '__delattr__', '__delitem__', '__dir__', '__doc__', '__eq__', '__format__', '__ge__', '__getattribute__', '__getitem__', '__gt__', '__hash__', '__iadd__', '__imul__', '__init__', '__init_subclass__', '__iter__', '__le__', '__len__', '__lt__', '__mul__', '__ne__', '__new__', '__reduce__', '__reduce_ex__', '__repr__', '__reversed__', '__rmul__', '__setattr__', '__setitem__', '__sizeof__', '__str__', '__subclasshook__', 'append', 'clear', 'copy', 'count', 'extend', 'index', 'insert', 'pop', 'remove', 'reverse', 'sort']\n"
     ]
    }
   ],
   "source": [
    "print(dir(list))"
   ]
  },
  {
   "cell_type": "markdown",
   "metadata": {},
   "source": [
    "### вкладені списки"
   ]
  },
  {
   "cell_type": "code",
   "execution_count": 14,
   "metadata": {},
   "outputs": [
    {
     "name": "stdout",
     "output_type": "stream",
     "text": [
      "[1, 2]\n",
      "2\n"
     ]
    }
   ],
   "source": [
    "spisok = [[1, 2], [3, 4]]\n",
    "print (spisok[0])\n",
    "print (spisok[0][1])"
   ]
  },
  {
   "cell_type": "code",
   "execution_count": 17,
   "metadata": {
    "run_control": {
     "marked": false
    }
   },
   "outputs": [
    {
     "name": "stdout",
     "output_type": "stream",
     "text": [
      "[[1, 2, 3], [4, 5, 6], [7, 8, 9]]\n",
      "[[1, 2, 3], [42, 5, 6], [7, 8, 9]]\n",
      "[[1, 2, 5], [42, 3, 6], [7, 8, 9]]\n"
     ]
    }
   ],
   "source": [
    "### ЗАВДАННЯ 4: \n",
    "# 1) створити вкладений список [[1,2,3], [4,5,6], [7,8,9]]\n",
    "# 2) написати код що замінює 4-ку на 42\n",
    "# 3) написати код що міняє місцями 3-ку та 5-ку\n",
    "\n",
    "#1\n",
    "\n",
    "spisok2 = []\n",
    "n=0\n",
    "for i in range(3):\n",
    "    spisok2.append([n+i+1 for i in range(3)])\n",
    "    n+=3\n",
    "print(spisok2)\n",
    "\n",
    "#2\n",
    "    \n",
    "spisok2[1][0]=42\n",
    "print(spisok2)\n",
    "\n",
    "#3\n",
    "    \n",
    "spisok2[0][2]=5\n",
    "spisok2[1][1]=3\n",
    "print(spisok2)"
   ]
  },
  {
   "cell_type": "markdown",
   "metadata": {},
   "source": [
    "## Кортежі - tuples"
   ]
  },
  {
   "cell_type": "markdown",
   "metadata": {},
   "source": [
    "__Кортеж__ - це _незмінна_ структура послідовних даних в круглих дужках"
   ]
  },
  {
   "cell_type": "code",
   "execution_count": 18,
   "metadata": {},
   "outputs": [],
   "source": [
    "k = ()    # пустий котреж\n",
    "k1 = (23,) # одноелементний кортеж\n",
    "kn = (1, 2, \"Вася\", [43, 1.2], (55, \"39\"))"
   ]
  },
  {
   "cell_type": "code",
   "execution_count": 19,
   "metadata": {},
   "outputs": [
    {
     "name": "stdout",
     "output_type": "stream",
     "text": [
      "<class 'tuple'>\n"
     ]
    }
   ],
   "source": [
    "print(type(k))"
   ]
  },
  {
   "cell_type": "markdown",
   "metadata": {},
   "source": [
    "#### відмінність від списків"
   ]
  },
  {
   "cell_type": "code",
   "execution_count": 20,
   "metadata": {},
   "outputs": [
    {
     "name": "stdout",
     "output_type": "stream",
     "text": [
      "56\n",
      "40\n"
     ]
    }
   ],
   "source": [
    "l = [1, 2]\n",
    "k = (1, 2)\n",
    "print(l.__sizeof__())\n",
    "print(k.__sizeof__())"
   ]
  },
  {
   "cell_type": "code",
   "execution_count": 21,
   "metadata": {
    "scrolled": true
   },
   "outputs": [
    {
     "name": "stdout",
     "output_type": "stream",
     "text": [
      "[1, 2] 2302717135680\n",
      "[1, 2, 3] 2302717135680\n"
     ]
    }
   ],
   "source": [
    "print (l, id(l))\n",
    "l += [3]\n",
    "print (l, id(l))"
   ]
  },
  {
   "cell_type": "code",
   "execution_count": 22,
   "metadata": {
    "scrolled": true
   },
   "outputs": [
    {
     "name": "stdout",
     "output_type": "stream",
     "text": [
      "(1, 2) 2302716243712\n",
      "(1, 2, 3) 2302717002304\n"
     ]
    }
   ],
   "source": [
    "print (k, id(k))\n",
    "k += (3,)\n",
    "print (k, id(k))"
   ]
  },
  {
   "cell_type": "code",
   "execution_count": 23,
   "metadata": {},
   "outputs": [
    {
     "name": "stdout",
     "output_type": "stream",
     "text": [
      "[1, 2, 3, 4]\n"
     ]
    }
   ],
   "source": [
    "l.append(4)\n",
    "print(l)"
   ]
  },
  {
   "cell_type": "markdown",
   "metadata": {},
   "source": [
    "## Словники - Dictionary\n",
    "\n",
    "__Словник__ - це _послідовна_ структура даних, кожний елемент якої є парою \"__ключ : зачення__\" (key-value) та записується в фігурних дужках через кому:\n",
    "\n",
    "slovnik = {key1:value1, key2:value2, ... keyN:valueN}\n",
    "\n",
    "\n",
    "<pre>slovnik = {int_num : 123,\n",
    "           stroka: \"John\",\n",
    "           some_list:[1,2,3],\n",
    "           \"const\":100}</pre>\n",
    "\n",
    "[Докладніше про словники в Python](https://devpractice.ru/python-lesson-9-dict/)"
   ]
  },
  {
   "cell_type": "markdown",
   "metadata": {},
   "source": [
    "## Словники - Dictionary\n",
    "\n",
    "__Словник__ - це _послідовна_ структура даних, кожний елемент якої є парою \"__ключ : зачення__\" (key-value) та записується в фігурних дужках через кому:\n",
    "\n",
    "slovnik = {key1:value1, key2:value2, ... keyN:valueN}\n",
    "\n",
    "\n",
    "<pre>slovnik = {int_num : 123,\n",
    "           stroka: \"John\",\n",
    "           some_list:[1,2,3],\n",
    "           \"const\":100}</pre>\n",
    "\n",
    "[Докладніше про словники в Python](https://devpractice.ru/python-lesson-9-dict/)"
   ]
  }
 ],
 "metadata": {
  "kernelspec": {
   "display_name": "Python 3",
   "language": "python",
   "name": "python3"
  },
  "language_info": {
   "codemirror_mode": {
    "name": "ipython",
    "version": 3
   },
   "file_extension": ".py",
   "mimetype": "text/x-python",
   "name": "python",
   "nbconvert_exporter": "python",
   "pygments_lexer": "ipython3",
   "version": "3.9.5"
  }
 },
 "nbformat": 4,
 "nbformat_minor": 2
}
